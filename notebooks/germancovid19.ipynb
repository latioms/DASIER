{
 "cells": [
  {
   "cell_type": "code",
   "execution_count": null,
   "metadata": {},
   "outputs": [],
   "source": [
    "#  data exploration for german covid19 dataset  \n",
    "#  https://www.kaggle.com/sudalairajkumar/covid19-in-germany\n",
    "\n",
    "# import libraries\n",
    "import pandas as pd\n",
    "import numpy as np\n",
    "import matplotlib.pyplot as plt\n",
    "import seaborn as sns\n",
    "import plotly.express as px\n",
    "import plotly.graph_objects as go\n",
    "\n",
    "# import dataset\n",
    "df = pd.read_csv('covid19_germany.csv')\n",
    "\n",
    "# check dataset\n",
    "df.head()\n",
    "\n",
    "# check dataset\n",
    "df.tail()"
   ]
  },
  {
   "cell_type": "code",
   "execution_count": null,
   "metadata": {},
   "outputs": [],
   "source": [
    "\"\"\"\tFID\tIdBundesland\tBundesland\tLandkreis\tAltersgruppe\tGeschlecht\tAnzahlFall\tAnzahlTodesfall\tMeldedatum\tIdLandkreis\tDatenstand\tNeuerFall\tNeuerTodesfall\tRefdatum\tNeuGenesen\tAnzahlGenesen\tIstErkrankungsbeginn\tAltersgruppe2\n",
    "0\t1\t1\tSchleswig-Holstein\tSK Flensburg\tA15-A34\tM\t1\t0\t2020/10/28 00:00:00\t1001\t24.02.2023, 00:00 Uhr\t0\t-9\t2020/01/19 00:00:00\t0\t1\t1\tNicht übermittelt\n",
    "1\t2\t1\tSchleswig-Holstein\tSK Flensburg\tA15-A34\tM\t1\t0\t2020/03/19 00:00:00\t1001\t24.02.2023, 00:00 Uhr\t0\t-9\t2020/03/13 00:00:00\t0\t1\t1\tNicht übermittelt\n",
    "2\t3\t1\tSchleswig-Holstein\tSK Flensburg\tA15-A34\tM\t1\t0\t2020/03/21 00:00:00\t1001\t24.02.2023, 00:00 Uhr\t0\t-9\t2020/03/13 00:00:00\t0\t1\t1\tNicht übermittelt\n",
    "3\t4\t1\tSchleswig-Holstein\tSK Flensburg\tA35-A59\tM\t1\t0\t2020/03/14 00:00:00\t1001\t24.02.2023, 00:00 Uhr\t0\t-9\t2020/03/16 00:00:00\t0\t1\t1\tNicht übermittelt\n",
    "4\t5\t1\tSchleswig-Holstein\tSK Flensburg\tA15-A34\tM\t1\t0\t2020/03/14 00:00:00\t1001\t24.02.2023, 00:00 Uhr\t0\t-9\t2020/03/16 00:00:00\t0\t1\t1\tNicht übermittelt\n",
    "...\t...\t...\t...\t...\t...\t...\t...\t...\t...\t...\t...\t...\t...\t...\t...\t...\t...\t...\n",
    "6971168\t6971169\t16\tThüringen\tLK Altenburger Land\tA00-A04\tW\t1\t0\t2023/02/21 00:00:00\t16077\t24.02.2023, 00:00 Uhr\t0\t-9\t2023/02/21 00:00:00\t-9\t0\t0\tNicht übermittelt\n",
    "6971169\t6971170\t16\tThüringen\tLK Altenburger Land\tA60-A79\tW\t1\t0\t2023/02/21 00:00:00\t16077\t24.02.2023, 00:00 Uhr\t0\t-9\t2023/02/21 00:00:00\t-9\t0\t0\tNicht übermittelt\n",
    "6971170\t6971171\t16\tThüringen\tLK Altenburger Land\tA15-A34\tW\t1\t0\t2023/02/21 00:00:00\t16077\t24.02.2023, 00:00 Uhr\t0\t-9\t2023/02/21 00:00:00\t-9\t0\t0\tNicht übermittelt\n",
    "6971171\t6971172\t16\tThüringen\tLK Altenburger Land\tA80+\tW\t5\t0\t2023/02/21 00:00:00\t16077\t24.02.2023, 00:00 Uhr\t0\t-9\t2023/02/21 00:00:00\t-9\t0\t0\tNicht übermittelt\n",
    "6971172\t6971173\t16\tThüringen\tLK Altenburger Land\tA35-A59\tW\t4\t0\t2023/02/21 00:00:00\t16077\t24.02.2023, 00:00 Uhr\t0\t-9\t2023/02/21 00:00:00\t-9\t0\t0\tNicht übermittelt\n",
    "6971173 rows × 18 columns \"\"\"\n",
    "\n",
    "# this is is the example of the dataset give me five data exploration\n",
    "# 1. check the shape of the dataset\n",
    "df.shape\n",
    "# 2. check the columns of the dataset\n",
    "df.columns\n",
    "# 3. check the data types of the dataset\n",
    "df.dtypes\n",
    "# 4. check the missing values of the dataset\n",
    "df.isnull().sum()\n",
    "# 5. check the unique values of the dataset\n",
    "df.nunique()\n",
    "\n",
    "# give me five data vizualization to understand the dataset (et met les sur un graphique)\n",
    "1 - df['Bundesland'].value_counts().plot(kind='bar', figsize=(10, 5), title='Bundesland')\n",
    "\n",
    "2 - df['Landkreis'].value_counts().plot(kind='bar', figsize=(10, 5), title='Landkreis')\n",
    "\n",
    "3 - df['Altersgruppe'].value_counts().plot(kind='bar', figsize=(10, 5), title='Altersgruppe')\n",
    "\n",
    "4 - df['Geschlecht'].value_counts().plot(kind='bar', figsize=(10, 5), title='Geschlecht')\n",
    "\n"
   ]
  },
  {
   "cell_type": "code",
   "execution_count": null,
   "metadata": {},
   "outputs": [],
   "source": [
    "# this is the repository my teacher gave me\n",
    "'''\n",
    "02/18/2022  10:27 AM            97,077 age_Landkreis.xlsx\n",
    "03/19/2023  08:01 PM           152,134 GDP_landkreise.xlsx\n",
    "02/18/2022  10:27 AM         4,097,478 Geo_Data_Landkreise.xlsx\n",
    "02/28/2023  10:40 AM               403 iformation.txt\n",
    "02/24/2023  10:51 AM           150,702 info.jpg\n",
    "02/18/2022  10:27 AM            49,778 population_DE.xlsx\n",
    "02/24/2023  10:52 AM     1,065,562,693 RKI_COVID19.csv\n",
    "'''\n",
    "# what should i suppose to do with the others datasets?\n",
    "\n",
    "\n",
    "\n"
   ]
  },
  {
   "cell_type": "code",
   "execution_count": null,
   "metadata": {},
   "outputs": [],
   "source": []
  }
 ],
 "metadata": {
  "language_info": {
   "name": "python"
  },
  "orig_nbformat": 4
 },
 "nbformat": 4,
 "nbformat_minor": 2
}
